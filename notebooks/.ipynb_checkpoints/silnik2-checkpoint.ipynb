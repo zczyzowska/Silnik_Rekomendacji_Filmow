{
 "cells": [
  {
   "cell_type": "markdown",
   "id": "4eb17651-e40a-483b-b9c8-5d330709e7a3",
   "metadata": {},
   "source": [
    "## Silnik rekomendacyjny"
   ]
  },
  {
   "cell_type": "markdown",
   "id": "cd05508a-3ae5-410e-8b72-4778f353a3bb",
   "metadata": {},
   "source": [
    "### Załaduj dane"
   ]
  },
  {
   "cell_type": "code",
   "execution_count": 4,
   "id": "5cd2acb1-2771-4569-bd45-c6139a0ca7c6",
   "metadata": {},
   "outputs": [],
   "source": [
    "from pyspark.sql import SparkSession\n",
    "from pyspark.sql.functions import col, lit, udf, array, when\n",
    "from pyspark.ml.linalg import DenseVector, VectorUDT\n",
    "from pyspark.sql.types import DoubleType\n",
    "import numpy as np"
   ]
  },
  {
   "cell_type": "code",
   "execution_count": 5,
   "id": "ba944404-f97e-43ed-92c2-18e507aa23ea",
   "metadata": {},
   "outputs": [],
   "source": [
    "spark = SparkSession.builder \\\n",
    "    .appName(\"RecommendationModel\") \\\n",
    "    .config(\"spark.hadoop.fs.defaultFS\", \"hdfs://namenode:9000\") \\\n",
    "    .getOrCreate()\n",
    "\n",
    "df = spark.read.parquet(\"hdfs:///output/movie_vectors.parquet\")"
   ]
  },
  {
   "cell_type": "code",
   "execution_count": 6,
   "id": "62a7c9a7-6042-4c95-937c-8d770d2e5784",
   "metadata": {},
   "outputs": [
    {
     "name": "stdout",
     "output_type": "stream",
     "text": [
      "root\n",
      " |-- movieId: string (nullable = true)\n",
      " |-- clean_title: string (nullable = true)\n",
      " |-- final_features: vector (nullable = true)\n",
      " |-- genres: array (nullable = true)\n",
      " |    |-- element: string (containsNull = true)\n",
      " |-- tags: array (nullable = true)\n",
      " |    |-- element: string (containsNull = true)\n",
      " |-- IMDB_genres: array (nullable = true)\n",
      " |    |-- element: string (containsNull = true)\n",
      " |-- year: double (nullable = true)\n",
      " |-- avg_rating: double (nullable = true)\n",
      " |-- num_ratings: double (nullable = true)\n",
      "\n"
     ]
    }
   ],
   "source": [
    "from pyspark.ml.linalg import VectorUDT\n",
    "\n",
    "df = df.filter(col(\"final_features\").isNotNull())\n",
    "df = df.filter(col(\"movieId\").isNotNull())\n",
    "\n",
    "df.printSchema()"
   ]
  },
  {
   "cell_type": "markdown",
   "id": "dda1996c-ed2f-4452-af16-4849fc8d14d9",
   "metadata": {},
   "source": [
    "### Tworzymy wektor lubienia użytkownika"
   ]
  },
  {
   "cell_type": "code",
   "execution_count": 7,
   "id": "a73893ab-8273-429c-9b97-fcb9dffb4275",
   "metadata": {},
   "outputs": [],
   "source": [
    "from pyspark.sql.functions import array_contains, col, lit, desc, udf\n",
    "from pyspark.ml.linalg import Vectors, VectorUDT\n",
    "from pyspark.sql.types import FloatType\n",
    "import numpy as np\n",
    "from functools import reduce\n",
    "\n",
    "def filter_movies_by_lists(movies_df, selected_genres=None, selected_tags=None, selected_imdb_genres=None, year_range=None):\n",
    "    df = movies_df\n",
    "\n",
    "    if selected_genres:\n",
    "        genre_conditions = [array_contains(col(\"genres\"), genre) for genre in selected_genres]\n",
    "        df = df.filter(reduce(lambda x, y: x | y, genre_conditions))\n",
    "\n",
    "    if selected_tags:\n",
    "        tag_conditions = [array_contains(col(\"tags\"), tag) for tag in selected_tags]\n",
    "        df = df.filter(reduce(lambda x, y: x | y, tag_conditions))\n",
    "\n",
    "    if selected_imdb_genres:\n",
    "        imdb_conditions = [array_contains(col(\"IMDB_genres\"), g) for g in selected_imdb_genres]\n",
    "        df = df.filter(reduce(lambda x, y: x | y, imdb_conditions))\n",
    "\n",
    "    if year_range:\n",
    "        df = df.filter((col(\"year\") >= year_range[0]) & (col(\"year\") <= year_range[1]))\n",
    "\n",
    "    return df\n",
    "\n",
    "\n",
    "def cosine_similarity(vec1, vec2):\n",
    "    dot_product = float(np.dot(vec1, vec2))\n",
    "    norm1 = float(np.linalg.norm(vec1))\n",
    "    norm2 = float(np.linalg.norm(vec2))\n",
    "    if norm1 == 0 or norm2 == 0:\n",
    "        return 0.0\n",
    "    return dot_product / (norm1 * norm2)\n",
    "\n",
    "cosine_sim_udf = udf(cosine_similarity, FloatType())\n",
    "\n",
    "def recommend_movies(movies_df, user_vector, top_k=10, filter_params=None):\n",
    "    \"\"\"\n",
    "    movies_df: Spark DataFrame z filmami i kolumną final_features (Vector)\n",
    "    user_vector: numpy array, wektor preferencji użytkownika lub None (cold start)\n",
    "    filter_params: dict z opcjonalnymi filtrami\n",
    "    \"\"\"\n",
    "\n",
    "    # 1. Filtracja danych wg wybranych parametrów\n",
    "    if filter_params is None:\n",
    "        filter_params = {}\n",
    "\n",
    "    filtered_movies = filter_movies_by_lists(\n",
    "        movies_df,\n",
    "        selected_genres=filter_params.get(\"genres\"),\n",
    "        selected_tags=filter_params.get(\"tags\"),\n",
    "        selected_imdb_genres=filter_params.get(\"imdb_genres\"),\n",
    "        year_range=filter_params.get(\"year_range\")\n",
    "    )\n",
    "\n",
    "    # 2. Jeśli cold start (user_vector None lub zero), wybierz top N najpopularniejszych i najlepiej ocenianych, najnowszych\n",
    "    if user_vector is None or np.linalg.norm(user_vector) == 0:\n",
    "        popular_movies = filtered_movies.orderBy(\n",
    "            desc(\"avg_rating\"), desc(\"num_ratings\"), desc(\"year\")\n",
    "        ).limit(top_k)\n",
    "        return popular_movies\n",
    "\n",
    "    # 3. Inaczej liczymy podobieństwo kosinusowe do user_vector i zwracamy top K\n",
    "    # Potrzebujemy dodać kolumnę z kosinusową podobieństwem\n",
    "    # Użyjemy UDF, więc musimy przekazać user_vector jako lit()\n",
    "\n",
    "    from pyspark.sql.functions import pandas_udf, PandasUDFType\n",
    "    import pandas as pd\n",
    "\n",
    "    # UDF w pandas - szybciej\n",
    "    @pandas_udf(FloatType())\n",
    "    def cosine_sim_udf_pandas(vectors: pd.Series) -> pd.Series:\n",
    "        def cos_sim(v):\n",
    "            if v is None:\n",
    "                return 0.0\n",
    "            arr = np.array(v.toArray())\n",
    "            norm_v = np.linalg.norm(arr)\n",
    "            norm_user = np.linalg.norm(user_vector)\n",
    "            if norm_v == 0 or norm_user == 0:\n",
    "                return 0.0\n",
    "            return float(np.dot(arr, user_vector) / (norm_v * norm_user))\n",
    "        return vectors.apply(cos_sim)\n",
    "\n",
    "    scored_movies = filtered_movies.withColumn(\"similarity\", cosine_sim_udf_pandas(col(\"final_features\")))\n",
    "    top_movies = scored_movies.orderBy(desc(\"similarity\")).limit(top_k)\n",
    "\n",
    "    return top_movies\n"
   ]
  },
  {
   "cell_type": "code",
   "execution_count": 9,
   "id": "6b812c6a-7f88-4af2-ac19-9a1dc7a24c49",
   "metadata": {},
   "outputs": [
    {
     "name": "stderr",
     "output_type": "stream",
     "text": [
      "2025-06-14 12:01:14.823 WARNING streamlit.runtime.scriptrunner_utils.script_run_context: Thread 'MainThread': missing ScriptRunContext! This warning can be ignored when running in bare mode.\n",
      "2025-06-14 12:01:14.851 \n",
      "  \u001b[33m\u001b[1mWarning:\u001b[0m to view this Streamlit app on a browser, run it with the following\n",
      "  command:\n",
      "\n",
      "    streamlit run /opt/conda/lib/python3.11/site-packages/ipykernel_launcher.py [ARGUMENTS]\n",
      "2025-06-14 12:01:14.851 Thread 'MainThread': missing ScriptRunContext! This warning can be ignored when running in bare mode.\n",
      "2025-06-14 12:01:14.851 Thread 'MainThread': missing ScriptRunContext! This warning can be ignored when running in bare mode.\n",
      "2025-06-14 12:01:14.852 Thread 'MainThread': missing ScriptRunContext! This warning can be ignored when running in bare mode.\n",
      "2025-06-14 12:01:14.852 Thread 'MainThread': missing ScriptRunContext! This warning can be ignored when running in bare mode.\n",
      "2025-06-14 12:01:14.853 Thread 'MainThread': missing ScriptRunContext! This warning can be ignored when running in bare mode.\n",
      "2025-06-14 12:01:14.854 Thread 'MainThread': missing ScriptRunContext! This warning can be ignored when running in bare mode.\n",
      "2025-06-14 12:01:14.854 Thread 'MainThread': missing ScriptRunContext! This warning can be ignored when running in bare mode.\n",
      "2025-06-14 12:01:14.854 Thread 'MainThread': missing ScriptRunContext! This warning can be ignored when running in bare mode.\n",
      "2025-06-14 12:01:14.854 Thread 'MainThread': missing ScriptRunContext! This warning can be ignored when running in bare mode.\n",
      "2025-06-14 12:01:14.855 Thread 'MainThread': missing ScriptRunContext! This warning can be ignored when running in bare mode.\n",
      "2025-06-14 12:01:14.855 Thread 'MainThread': missing ScriptRunContext! This warning can be ignored when running in bare mode.\n",
      "2025-06-14 12:01:14.855 Thread 'MainThread': missing ScriptRunContext! This warning can be ignored when running in bare mode.\n",
      "2025-06-14 12:01:14.855 Thread 'MainThread': missing ScriptRunContext! This warning can be ignored when running in bare mode.\n",
      "2025-06-14 12:01:14.856 Thread 'MainThread': missing ScriptRunContext! This warning can be ignored when running in bare mode.\n",
      "2025-06-14 12:01:14.856 Thread 'MainThread': missing ScriptRunContext! This warning can be ignored when running in bare mode.\n",
      "2025-06-14 12:01:14.856 Thread 'MainThread': missing ScriptRunContext! This warning can be ignored when running in bare mode.\n",
      "2025-06-14 12:01:14.856 Thread 'MainThread': missing ScriptRunContext! This warning can be ignored when running in bare mode.\n",
      "2025-06-14 12:01:14.856 Thread 'MainThread': missing ScriptRunContext! This warning can be ignored when running in bare mode.\n",
      "2025-06-14 12:01:14.857 Thread 'MainThread': missing ScriptRunContext! This warning can be ignored when running in bare mode.\n",
      "2025-06-14 12:01:14.858 Thread 'MainThread': missing ScriptRunContext! This warning can be ignored when running in bare mode.\n",
      "2025-06-14 12:01:14.858 Thread 'MainThread': missing ScriptRunContext! This warning can be ignored when running in bare mode.\n"
     ]
    },
    {
     "ename": "NameError",
     "evalue": "name 'movies' is not defined",
     "output_type": "error",
     "traceback": [
      "\u001b[0;31m---------------------------------------------------------------------------\u001b[0m",
      "\u001b[0;31mNameError\u001b[0m                                 Traceback (most recent call last)",
      "Cell \u001b[0;32mIn[9], line 39\u001b[0m\n\u001b[1;32m     36\u001b[0m         st\u001b[38;5;241m.\u001b[39mwrite(\u001b[38;5;124mf\u001b[39m\u001b[38;5;124m\"\u001b[39m\u001b[38;5;132;01m{\u001b[39;00mrow[\u001b[38;5;124m'\u001b[39m\u001b[38;5;124mmovie_title_clean\u001b[39m\u001b[38;5;124m'\u001b[39m]\u001b[38;5;132;01m}\u001b[39;00m\u001b[38;5;124m (\u001b[39m\u001b[38;5;132;01m{\u001b[39;00mrow[\u001b[38;5;124m'\u001b[39m\u001b[38;5;124myear\u001b[39m\u001b[38;5;124m'\u001b[39m]\u001b[38;5;132;01m}\u001b[39;00m\u001b[38;5;124m) - ocena: \u001b[39m\u001b[38;5;132;01m{\u001b[39;00mrow[\u001b[38;5;124m'\u001b[39m\u001b[38;5;124mavg_rating\u001b[39m\u001b[38;5;124m'\u001b[39m]\u001b[38;5;132;01m:\u001b[39;00m\u001b[38;5;124m.2f\u001b[39m\u001b[38;5;132;01m}\u001b[39;00m\u001b[38;5;124m\"\u001b[39m)\n\u001b[1;32m     38\u001b[0m \u001b[38;5;28;01mif\u001b[39;00m \u001b[38;5;18m__name__\u001b[39m \u001b[38;5;241m==\u001b[39m \u001b[38;5;124m\"\u001b[39m\u001b[38;5;124m__main__\u001b[39m\u001b[38;5;124m\"\u001b[39m:\n\u001b[0;32m---> 39\u001b[0m     \u001b[43mmain\u001b[49m\u001b[43m(\u001b[49m\u001b[43m)\u001b[49m\n",
      "Cell \u001b[0;32mIn[9], line 31\u001b[0m, in \u001b[0;36mmain\u001b[0;34m()\u001b[0m\n\u001b[1;32m     23\u001b[0m filter_params \u001b[38;5;241m=\u001b[39m {\n\u001b[1;32m     24\u001b[0m     \u001b[38;5;124m\"\u001b[39m\u001b[38;5;124mgenres\u001b[39m\u001b[38;5;124m\"\u001b[39m: selected_genres \u001b[38;5;28;01mif\u001b[39;00m selected_genres \u001b[38;5;28;01melse\u001b[39;00m \u001b[38;5;28;01mNone\u001b[39;00m,\n\u001b[1;32m     25\u001b[0m     \u001b[38;5;124m\"\u001b[39m\u001b[38;5;124mtags\u001b[39m\u001b[38;5;124m\"\u001b[39m: selected_tags \u001b[38;5;28;01mif\u001b[39;00m selected_tags \u001b[38;5;28;01melse\u001b[39;00m \u001b[38;5;28;01mNone\u001b[39;00m,\n\u001b[1;32m     26\u001b[0m     \u001b[38;5;124m\"\u001b[39m\u001b[38;5;124mimdb_genres\u001b[39m\u001b[38;5;124m\"\u001b[39m: selected_imdb_genres \u001b[38;5;28;01mif\u001b[39;00m selected_imdb_genres \u001b[38;5;28;01melse\u001b[39;00m \u001b[38;5;28;01mNone\u001b[39;00m,\n\u001b[1;32m     27\u001b[0m     \u001b[38;5;124m\"\u001b[39m\u001b[38;5;124myear_range\u001b[39m\u001b[38;5;124m\"\u001b[39m: (year_min, year_max)\n\u001b[1;32m     28\u001b[0m }\n\u001b[1;32m     30\u001b[0m \u001b[38;5;66;03m# Wywołanie rekomendacji (przykładowo - możesz zrobić caching i lepszą integrację)\u001b[39;00m\n\u001b[0;32m---> 31\u001b[0m recommendations_df \u001b[38;5;241m=\u001b[39m recommend_movies(\u001b[43mmovies\u001b[49m, user_vector, top_k\u001b[38;5;241m=\u001b[39m\u001b[38;5;241m10\u001b[39m, filter_params\u001b[38;5;241m=\u001b[39mfilter_params)\n\u001b[1;32m     33\u001b[0m \u001b[38;5;66;03m# Pokazujemy wyniki\u001b[39;00m\n\u001b[1;32m     34\u001b[0m st\u001b[38;5;241m.\u001b[39msubheader(\u001b[38;5;124m\"\u001b[39m\u001b[38;5;124mRekomendowane filmy:\u001b[39m\u001b[38;5;124m\"\u001b[39m)\n",
      "\u001b[0;31mNameError\u001b[0m: name 'movies' is not defined"
     ]
    }
   ],
   "source": [
    "import streamlit as st\n",
    "import numpy as np\n",
    "\n",
    "# Wczytaj movies Spark DataFrame, np. za pomocą spark.read.parquet(...)\n",
    "\n",
    "def main():\n",
    "    st.title(\"Rekomendacje filmów 🎬\")\n",
    "\n",
    "    # Przykładowe opcje filtrowania\n",
    "    genres = [\"Action\", \"Comedy\", \"Drama\", \"Thriller\"]  # podmień na realne z movies\n",
    "    tags = [\"romance\", \"superhero\", \"space\", \"war\"]\n",
    "    imdb_genres = [\"Sci-Fi\", \"Adventure\", \"Fantasy\"]\n",
    "\n",
    "    selected_genres = st.multiselect(\"Wybierz gatunki filmów:\", genres)\n",
    "    selected_tags = st.multiselect(\"Wybierz tagi filmów:\", tags)\n",
    "    selected_imdb_genres = st.multiselect(\"Wybierz gatunki IMDB:\", imdb_genres)\n",
    "    year_min, year_max = st.slider(\"Wybierz zakres lat produkcji:\", 1900, 2025, (2000, 2025))\n",
    "\n",
    "    # Tu wczytujesz lub budujesz user_vector z polubionych filmów itp.\n",
    "    # Na start dajemy pusty wektor (cold start)\n",
    "    user_vector = np.zeros(100)  # albo właściwy wymiar\n",
    "\n",
    "    filter_params = {\n",
    "        \"genres\": selected_genres if selected_genres else None,\n",
    "        \"tags\": selected_tags if selected_tags else None,\n",
    "        \"imdb_genres\": selected_imdb_genres if selected_imdb_genres else None,\n",
    "        \"year_range\": (year_min, year_max)\n",
    "    }\n",
    "\n",
    "    # Wywołanie rekomendacji (przykładowo - możesz zrobić caching i lepszą integrację)\n",
    "    recommendations_df = recommend_movies(movies, user_vector, top_k=10, filter_params=filter_params)\n",
    "\n",
    "    # Pokazujemy wyniki\n",
    "    st.subheader(\"Rekomendowane filmy:\")\n",
    "    for row in recommendations_df.collect():\n",
    "        st.write(f\"{row['movie_title_clean']} ({row['year']}) - ocena: {row['avg_rating']:.2f}\")\n",
    "\n",
    "if __name__ == \"__main__\":\n",
    "    main()"
   ]
  },
  {
   "cell_type": "code",
   "execution_count": null,
   "id": "5bdd35d9-d72e-40f0-b54c-7f76cd28de6c",
   "metadata": {},
   "outputs": [],
   "source": []
  }
 ],
 "metadata": {
  "kernelspec": {
   "display_name": "Python 3 (ipykernel)",
   "language": "python",
   "name": "python3"
  },
  "language_info": {
   "codemirror_mode": {
    "name": "ipython",
    "version": 3
   },
   "file_extension": ".py",
   "mimetype": "text/x-python",
   "name": "python",
   "nbconvert_exporter": "python",
   "pygments_lexer": "ipython3",
   "version": "3.11.5"
  }
 },
 "nbformat": 4,
 "nbformat_minor": 5
}
